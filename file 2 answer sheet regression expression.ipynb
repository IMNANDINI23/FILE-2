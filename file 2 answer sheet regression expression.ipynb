{
 "cells": [
  {
   "cell_type": "code",
   "execution_count": 21,
   "id": "e83baa09",
   "metadata": {},
   "outputs": [
    {
     "name": "stdout",
     "output_type": "stream",
     "text": [
      "python:exercises:::PHP:exercises\n"
     ]
    }
   ],
   "source": [
    "#Write a Python program to replace all occurrences of a space, comma, or dot with a colon.\n",
    "#'Python Exercises, PHP exercises.'\n",
    "import re\n",
    "input_string = 'python exercises , PHP exercises'\n",
    "pattern = r'[ ,.]'\n",
    "result = re.sub(pattern, ':', input_string)\n",
    "print(result)\n",
    "\n"
   ]
  },
  {
   "cell_type": "code",
   "execution_count": 16,
   "id": "8b28b3aa",
   "metadata": {},
   "outputs": [
    {
     "name": "stdout",
     "output_type": "stream",
     "text": [
      "         SUMMARY\n",
      "0    hello world\n",
      "1     XXXXX test\n",
      "2  four five six\n"
     ]
    }
   ],
   "source": [
    "#create dataframe using the dictionary below and remove everything (commas (,), !, XXXX, ;, etc.) from the columns excep words.\n",
    "#{'SUMMARY' : ['hello, world!', 'XXXXX test', '123four, five:; six...']\n",
    "import pandas as pd\n",
    "import re\n",
    "\n",
    "data = {'SUMMARY': ['hello, world!', 'XXXXX test', '123four, five:; six...']}\n",
    "\n",
    "df = pd.DataFrame(data)\n",
    "\n",
    "# Remove everything except words using regular expressions\n",
    "df['SUMMARY'] = df['SUMMARY'].apply(lambda x: re.sub(r'[^a-zA-Z\\s]', '', x))\n",
    "\n",
    "print(df)"
   ]
  },
  {
   "cell_type": "code",
   "execution_count": 17,
   "id": "7fb166c1",
   "metadata": {},
   "outputs": [
    {
     "name": "stdout",
     "output_type": "stream",
     "text": [
      "['This', 'sample', 'string', 'with', 'some', 'words', 'different', 'lengths']\n"
     ]
    }
   ],
   "source": [
    "# Create a function in python to find all words that are at least 4 characters long in a string. \n",
    "import re\n",
    "\n",
    "def find_long_words(string):\n",
    "    pattern = r'\\b\\w{4,}\\b'  # Regular expression pattern to match words with at least 4 characters\n",
    "    long_words = re.findall(pattern, string)\n",
    "    return long_words\n",
    "\n",
    "string = \"This is a sample string with some words of different lengths.\"\n",
    "result = find_long_words(string)\n",
    "print(result)"
   ]
  },
  {
   "cell_type": "code",
   "execution_count": 18,
   "id": "d5910c4e",
   "metadata": {},
   "outputs": [
    {
     "name": "stdout",
     "output_type": "stream",
     "text": [
      "['This', 'with', 'some', 'words']\n"
     ]
    }
   ],
   "source": [
    "#Create a function in python to find all three, four, and five character words in a string. \n",
    "import re\n",
    "\n",
    "def find_specific_length_words(string):\n",
    "    pattern = r'\\b\\w{3,5}\\b'  # Regular expression pattern to match words with lengths 3, 4, or 5\n",
    "    specific_length_words = re.findall(pattern, string)\n",
    "    return specific_length_words\n",
    "\n",
    "string = \"This is a sample string with some words of different lengths.\"\n",
    "result = find_specific_length_words(string)\n",
    "print(result)\n"
   ]
  },
  {
   "cell_type": "code",
   "execution_count": 14,
   "id": "8a0b7db7",
   "metadata": {},
   "outputs": [
    {
     "name": "stdout",
     "output_type": "stream",
     "text": [
      "['example ', 'hr@fliprobo ', 'github ', 'Hello ', 'Data ']\n"
     ]
    }
   ],
   "source": [
    "# Create a function in Python to remove the parenthesis in a list of strings.\n",
    "# [\"example (.com)\", \"hr@fliprobo (.com)\", \"github (.com)\", \"Hello (Data Science World)\", \"Data (Scientist)\"]\n",
    "import re\n",
    "\n",
    "def remove_parentheses(strings):\n",
    "    result = []\n",
    "    pattern = re.compile(r'\\([^)]*\\)')  # Regular expression pattern to match parentheses and their contents\n",
    "    \n",
    "    for string in strings:\n",
    "        new_string = re.sub(pattern, '', string)  # Remove parentheses using re.sub()\n",
    "        result.append(new_string)\n",
    "    \n",
    "    return result\n",
    "\n",
    "strings = [\"example (.com)\", \"hr@fliprobo (.com)\", \"github (.com)\", \"Hello (Data Science World)\", \"Data (Scientist)\"]\n",
    "result = remove_parentheses(strings)\n",
    "print(result)"
   ]
  },
  {
   "cell_type": "code",
   "execution_count": 6,
   "id": "66a4afe4",
   "metadata": {},
   "outputs": [
    {
     "name": "stdout",
     "output_type": "stream",
     "text": [
      "['I', 'O', 'R', 'E', 'I', 'P']\n"
     ]
    }
   ],
   "source": [
    "#Write a regular expression in Python to split a string into uppercase letters.\n",
    "# \"ImportanceOfRegularExpressionsInPython”\n",
    "\n",
    "import re\n",
    "\n",
    "string = \"ImportanceOfRegularExpressionsInPython\"\n",
    "uppercase_letters = re.findall('[A-Z]', string)\n",
    "\n",
    "print(uppercase_letters)"
   ]
  },
  {
   "cell_type": "code",
   "execution_count": 2,
   "id": "3ee5a58f",
   "metadata": {},
   "outputs": [
    {
     "name": "stdout",
     "output_type": "stream",
     "text": [
      "RegularExpression1 IsAn2 ImportantTopic3 InPython\n"
     ]
    }
   ],
   "source": [
    "# - Create a function in python to insert spaces between words starting with numbers.\n",
    "# “RegularExpression1IsAn2ImportantTopic3InPython\"\n",
    "import re\n",
    "\n",
    "def insert_spaces(string):\n",
    "    modified_string = re.sub(r'(\\d)([A-Za-z])', r'\\1 \\2', string)\n",
    "    return modified_string\n",
    "\n",
    "string = \"RegularExpression1IsAn2ImportantTopic3InPython\"\n",
    "result = insert_spaces(string)\n",
    "print(result)"
   ]
  },
  {
   "cell_type": "markdown",
   "id": "6f929906",
   "metadata": {},
   "source": []
  },
  {
   "cell_type": "code",
   "execution_count": null,
   "id": "4f4f46d7",
   "metadata": {},
   "outputs": [],
   "source": [
    "# "
   ]
  }
 ],
 "metadata": {
  "kernelspec": {
   "display_name": "Python 3 (ipykernel)",
   "language": "python",
   "name": "python3"
  },
  "language_info": {
   "codemirror_mode": {
    "name": "ipython",
    "version": 3
   },
   "file_extension": ".py",
   "mimetype": "text/x-python",
   "name": "python",
   "nbconvert_exporter": "python",
   "pygments_lexer": "ipython3",
   "version": "3.10.9"
  }
 },
 "nbformat": 4,
 "nbformat_minor": 5
}
